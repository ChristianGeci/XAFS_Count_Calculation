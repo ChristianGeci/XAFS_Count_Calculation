{
 "cells": [
  {
   "cell_type": "code",
   "execution_count": 1,
   "id": "a3607c2f-84e0-4bb6-a7b8-a8d81be58add",
   "metadata": {},
   "outputs": [],
   "source": [
    "import numpy as np\n",
    "import matplotlib.pyplot as plt\n",
    "from IPython.display import SVG\n",
    "\n",
    "import mcint #pip install mcint\n",
    "import random"
   ]
  },
  {
   "cell_type": "code",
   "execution_count": 2,
   "id": "e54e23f1-a434-46ea-8931-7701ba06c685",
   "metadata": {},
   "outputs": [],
   "source": [
    "#import dill\n",
    "#dill.dump_session('fluorescence_calculations_env_3.db')\n",
    "#dill.load_session('fluorescence_calculations_env_3.db')"
   ]
  },
  {
   "cell_type": "markdown",
   "id": "1964c34a-4924-4c1a-b5d8-d25685c18f89",
   "metadata": {
    "jp-MarkdownHeadingCollapsed": true,
    "tags": []
   },
   "source": [
    "# Version History"
   ]
  },
  {
   "cell_type": "markdown",
   "id": "1c9d8e7d-dcda-423d-a7a3-92c4972e7b04",
   "metadata": {},
   "source": [
    "v 2.0:\n",
    "    \n",
    "    -added code which update's the detector's position and orientation in sample coordinates as beam angle of incidence changes such that the detector is static in user coordinates\n",
    "    \n",
    "v 3.0:\n",
    "\n",
    "    -fixed a bug where the apex angle was calculated as arcsin(R/D) instead of arctan(R/D)"
   ]
  },
  {
   "cell_type": "markdown",
   "id": "3fe53b0d-26c3-4257-934b-fa6d23e8023d",
   "metadata": {
    "jp-MarkdownHeadingCollapsed": true,
    "tags": []
   },
   "source": [
    "# Mathematical Prinicples"
   ]
  },
  {
   "cell_type": "markdown",
   "id": "d9a5b1f3-96e9-4f90-aed5-d215f5942d45",
   "metadata": {
    "tags": []
   },
   "source": [
    "Consider a sample of infinite depth and area. This assumption is reasonable so long as the beam shape and sample size are such that the beam entirely hits the sample and nothing else.\n",
    "\n",
    "We begin by defining three unit vectors $\\hat{x}_{s}$, $\\hat{y}_{s}$, and $\\hat{z}_{s}$ which define what we will call the \"sample coordinate system\". The vector $\\hat{y}_{s}$ defines a direction normal to the sample's surface. $\\hat{x}_{s}$ and $\\hat{z}_{s}$ both define unit vectors in the plane of the sample's surface. $\\hat{x}_{s}$ defines the dimension of the illuminated rectangle which grows and shrinks as the beam's angle of incidence is varied; $\\hat{z}_{s}$ defines the dimension of the illuminated rectangle which does not change as the beam's angle of incidence is varied.\n",
    "\n",
    "At a typical XAFS beamline, $\\hat{X}$ is taken as the direction of polarization of the beam, $\\hat{Y}$ is taken as the vertical direction from the floor to the ceiling, and $\\hat{Z}$ is taken as the direction of propagation of the beam. Herein this coordinate system is called the \"standard coordinate system\". When the sample's axis of rotation is $\\hat{Y}$ (and the detector is therefore situated in the same plane as the ring and sample), our sample coordinate system has the following relationship to this standard coordinate system:\n",
    "$$\\huge{  \\hat{x}_{s} =      \\hat{X}sin(\\theta) + \\hat{Z}cos(\\theta)                } $$\n",
    "$$\\huge{  \\hat{y}_{s} =      \\hat{X}cos(\\theta) - \\hat{Z}sin(\\theta)                }$$\n",
    "$$\\huge{  \\hat{z}_{s} =       \\hat{Y}                              }$$\n",
    "When the sample's axis of rotation is $\\hat{X}$ (and the detector is therefore situated above or below the sample), our sample coordinate system's relationship to the standard coordinate system becomes:\n",
    "$$\\huge{   \\hat{x}_{s} =      \\hat{Y}sin(\\theta) + \\hat{Z}cos(\\theta)                                                   }$$\n",
    "$$\\huge{  \\hat{y}_{s} =      \\hat{Y}cos(\\theta) - \\hat{Z}sin(\\theta)                }$$\n",
    "$$\\huge{  \\hat{z}_{s} =       \\hat{X}                              }$$\n",
    "\n",
    "Where $\\theta$ is the beam's angle of incidence.\n",
    "\n",
    "We then consider a parallelepiped which defines the illuminated volume within the sample. Because the beam is attenuated as it penetrates further into the sample, we arbitrarily cut the parallelepiped off at a depth where the attenuation is above 99%. This parallelepiped has four rectangular faces.\n",
    "\n",
    "The origin of the sample coordinate system is taken to be the vertex of this parallelepiped closest to the beam source. There are two vertices which satisfy this condition, so we choose a vertex such that the $\\hat{x}_s$ and $\\hat{z}_s$ coordinates of all other vertices are positive (or zero). The center of the illuminated area therefore has sample coordinates of \n",
    "\n",
    "$$<\\frac{w_{beam}}{2sin(\\theta)}, 0, \\frac{h_{beam}}{2}>$$\n",
    "\n",
    "The position of the detector and its orientation are defined in the sample coordinate space. In these calculations, the detector is situated at a 90° angle with respect to the beam, and has a vertex in sample coordinates of \n",
    "$$<sin(\\theta)d_{detector} +\\frac{w_{beam}}{2sin(\\theta)}, cos(\\theta)d_{detector},\\frac{h_{beam}}{2}>$$"
   ]
  },
  {
   "cell_type": "code",
   "execution_count": 3,
   "id": "282eedfe-8948-4245-a03a-79886be60e49",
   "metadata": {},
   "outputs": [
    {
     "data": {
      "image/svg+xml": [
       "<svg xmlns:inkscape=\"http://www.inkscape.org/namespaces/inkscape\" xmlns:sodipodi=\"http://sodipodi.sourceforge.net/DTD/sodipodi-0.dtd\" xmlns=\"http://www.w3.org/2000/svg\" xmlns:svg=\"http://www.w3.org/2000/svg\" width=\"177.54294mm\" height=\"106.10142mm\" viewBox=\"0 0 177.54294 106.1014\" version=\"1.1\" id=\"svg1\" inkscape:version=\"1.3.2 (091e20e, 2023-11-25, custom)\" sodipodi:docname=\"detector origin.svg\">\n",
       "  <sodipodi:namedview id=\"namedview1\" pagecolor=\"#ffffff\" bordercolor=\"#000000\" borderopacity=\"0.25\" inkscape:showpageshadow=\"2\" inkscape:pageopacity=\"0.0\" inkscape:pagecheckerboard=\"0\" inkscape:deskcolor=\"#d1d1d1\" inkscape:document-units=\"mm\" showgrid=\"true\" inkscape:zoom=\"0.97890839\" inkscape:cx=\"420.87697\" inkscape:cy=\"158.85041\" inkscape:window-width=\"1920\" inkscape:window-height=\"1017\" inkscape:window-x=\"-8\" inkscape:window-y=\"-8\" inkscape:window-maximized=\"1\" inkscape:current-layer=\"layer1\">\n",
       "    <inkscape:grid id=\"grid1\" units=\"mm\" originx=\"-63.026997\" originy=\"-94.129557\" spacingx=\"0.99999998\" spacingy=\"1\" empcolor=\"#0099e5\" empopacity=\"0.30196078\" color=\"#0099e5\" opacity=\"0.14901961\" empspacing=\"5\" dotted=\"false\" gridanglex=\"30\" gridanglez=\"30\" visible=\"true\"/>\n",
       "  </sodipodi:namedview>\n",
       "  <defs id=\"defs1\">\n",
       "    <marker style=\"overflow:visible\" id=\"marker24\" refX=\"0\" refY=\"0\" orient=\"auto-start-reverse\" inkscape:stockid=\"Wide arrow\" markerWidth=\"1\" markerHeight=\"1\" viewBox=\"0 0 1 1\" inkscape:isstock=\"true\" inkscape:collect=\"always\" preserveAspectRatio=\"xMidYMid\">\n",
       "      <path style=\"fill:none;stroke:context-stroke;stroke-width:1;stroke-linecap:butt\" d=\"M 3,-3 0,0 3,3\" transform=\"rotate(180,0.125,0)\" sodipodi:nodetypes=\"ccc\" id=\"path24\"/>\n",
       "    </marker>\n",
       "    <marker style=\"overflow:visible\" id=\"ArrowWide\" refX=\"0\" refY=\"0\" orient=\"auto-start-reverse\" inkscape:stockid=\"Wide arrow\" markerWidth=\"1\" markerHeight=\"1\" viewBox=\"0 0 1 1\" inkscape:isstock=\"true\" inkscape:collect=\"always\" preserveAspectRatio=\"xMidYMid\">\n",
       "      <path style=\"fill:none;stroke:context-stroke;stroke-width:1;stroke-linecap:butt\" d=\"M 3,-3 0,0 3,3\" transform=\"rotate(180,0.125,0)\" sodipodi:nodetypes=\"ccc\" id=\"path22\"/>\n",
       "    </marker>\n",
       "    <rect x=\"257.00787\" y=\"377.95276\" width=\"15.118111\" height=\"6.1485705\" id=\"rect15\"/>\n",
       "    <rect x=\"291.55536\" y=\"373.08972\" width=\"3.9728818\" height=\"3.8825891\" id=\"rect10\"/>\n",
       "    <rect x=\"275.90552\" y=\"402.52515\" width=\"41.574806\" height=\"20.781919\" id=\"rect7\"/>\n",
       "    <rect x=\"291.55536\" y=\"373.08972\" width=\"34.164715\" height=\"4.6787481\" id=\"rect13\"/>\n",
       "    <rect x=\"291.55536\" y=\"373.08972\" width=\"32.872227\" height=\"4.2731514\" id=\"rect14\"/>\n",
       "    <rect x=\"275.90552\" y=\"402.52515\" width=\"18.897638\" height=\"5.6638069\" id=\"rect16\"/>\n",
       "    <rect x=\"275.90552\" y=\"402.52515\" width=\"18.897638\" height=\"5.6638069\" id=\"rect17\"/>\n",
       "  </defs>\n",
       "  <g inkscape:label=\"Layer 1\" inkscape:groupmode=\"layer\" id=\"layer1\" transform=\"translate(-63.026987,-94.129552)\">\n",
       "    <rect style=\"fill:#bbbbbb;fill-opacity:1;stroke:#000000;stroke-width:0.514233;stroke-dasharray:none;stroke-opacity:1\" id=\"rect1\" width=\"96.321716\" height=\"35.947666\" x=\"106.67828\" y=\"164.02618\"/>\n",
       "    <path style=\"fill:none;stroke:#0700ff;stroke-width:1.70072;stroke-opacity:1;marker-end:url(#marker24)\" d=\"m 101.10579,144.21753 54.36248,19.78634 21.98468,-60.40274\" id=\"path1\"/>\n",
       "    <path style=\"fill:none;stroke:#0700ff;stroke-width:0.417815;stroke-dasharray:0.417815, 0.417815;stroke-dashoffset:0;stroke-opacity:1\" d=\"m 157.66676,157.96356 -6.04029,-2.19841 -2.19853,6.04018\" id=\"path2\" sodipodi:nodetypes=\"ccc\"/>\n",
       "    <ellipse style=\"fill:none;stroke:#000000;stroke-width:0.417814;stroke-dasharray:none;stroke-dashoffset:0;stroke-opacity:1\" id=\"path3\" cx=\"202.21922\" cy=\"36.754906\" rx=\"19.283749\" ry=\"3.213958\" transform=\"rotate(20)\"/>\n",
       "    <path style=\"fill:none;stroke:#000000;stroke-width:0.417814;stroke-dasharray:none;stroke-dashoffset:0;stroke-opacity:1\" d=\"m 132.20815,155.6238 c -1.61242,2.00866 -2.94461,4.25264 -2.0347,8.38007\" id=\"path4\" sodipodi:nodetypes=\"cc\"/>\n",
       "    <path style=\"fill:none;stroke:#000000;stroke-width:0.417814;stroke-dasharray:none;stroke-dashoffset:0;stroke-opacity:1\" d=\"m 158.94938,154.43952 c 5.18225,2.21705 5.82643,5.82838 5.00786,9.56429\" id=\"path5\" sodipodi:nodetypes=\"cc\"/>\n",
       "    <text xml:space=\"preserve\" style=\"font-size:4.53525px;fill:#000000;fill-opacity:1;stroke:none;stroke-width:0.417814;stroke-dasharray:none;stroke-dashoffset:0;stroke-opacity:1\" x=\"125.34431\" y=\"161.04543\" id=\"text5\"><tspan sodipodi:role=\"line\" id=\"tspan5\" style=\"font-size:4.53525px;opacity:1;fill:#000000;fill-opacity:1;stroke:none;stroke-width:0.417815\" x=\"125.34431\" y=\"161.04543\">θ</tspan></text>\n",
       "    <text xml:space=\"preserve\" style=\"font-size:4.53525px;fill:#000000;fill-opacity:1;stroke:none;stroke-width:0.417814;stroke-dasharray:none;stroke-dashoffset:0;stroke-opacity:1\" x=\"162.32607\" y=\"155.57846\" id=\"text6\"><tspan sodipodi:role=\"line\" id=\"tspan6\" style=\"font-size:4.53525px;opacity:1;fill:#000000;fill-opacity:1;stroke:none;stroke-width:0.417815\" x=\"162.32607\" y=\"155.57846\" dy=\"0 0 0 0 -6.7068784e-10\" dx=\"0 0 0 0 -0.054292604\">90°-θ</tspan></text>\n",
       "    <text xml:space=\"preserve\" transform=\"matrix(1.7007195,0,0,1.7007195,-332.77659,-505.44991)\" id=\"text7\" style=\"font-size:2.66667px;white-space:pre;shape-inside:url(#rect7);display:inline;opacity:1;fill:#000000;fill-opacity:1;stroke:none;stroke-width:0.245669;stroke-dasharray:none;stroke-dashoffset:0;stroke-opacity:1\"><tspan x=\"275.90625\" y=\"407.39115\" id=\"tspan16\"><tspan style=\"font-size:5.33333px\" id=\"tspan15\">Sample</tspan>\n",
       "</tspan></text>\n",
       "    <path style=\"opacity:1;fill:#000000;fill-opacity:1;stroke:#000000;stroke-width:0.417814;stroke-dasharray:0.417814, 0.417814;stroke-dashoffset:0;stroke-opacity:1\" d=\"m 177.45295,103.60112 v 60.40269\" id=\"path7\"/>\n",
       "    <path style=\"opacity:1;fill:none;fill-opacity:1;stroke:#000000;stroke-width:0.514233;stroke-dasharray:none;stroke-dashoffset:0;stroke-opacity:1\" d=\"m 179.58362,162.73712 c 9.79648,-3.26576 -2.88837,-25.69508 5.30785,-29.50529 -8.19622,-3.81018 4.48863,-26.23942 -5.30785,-29.50519\" id=\"path9\" sodipodi:nodetypes=\"ccc\"/>\n",
       "    <path style=\"opacity:1;fill:none;fill-opacity:1;stroke:#000000;stroke-width:0.514233;stroke-dasharray:none;stroke-dashoffset:0;stroke-opacity:1\" d=\"m 173.76499,104.24638 c -10.32264,-0.2818 -6.07405,25.13336 -15.07915,25.91052 6.39877,6.3837 -13.19234,23.1218 -5.10362,29.54117\" id=\"path10\" sodipodi:nodetypes=\"ccc\"/>\n",
       "    <text xml:space=\"preserve\" transform=\"matrix(1.7007195,0,0,1.7007195,-341.83981,-508.93102)\" id=\"text10\" style=\"font-size:2.66667px;white-space:pre;shape-inside:url(#rect10);display:inline;opacity:1;fill:#000000;fill-opacity:1;stroke:none;stroke-width:0.302362;stroke-dasharray:none;stroke-dashoffset:0;stroke-opacity:1\"><tspan x=\"291.55469\" y=\"375.52273\" id=\"tspan17\">d</tspan></text>\n",
       "    <path style=\"opacity:1;fill:none;fill-opacity:1;stroke:#000000;stroke-width:0.514233;stroke-dasharray:none;stroke-dashoffset:0;stroke-opacity:1\" d=\"m 156.09688,165.23591 c 1.17433,7.86662 9.23963,-2.31938 10.60974,4.26229 1.37009,-6.58167 9.43536,3.60433 10.60968,-4.26229\" id=\"path11\" sodipodi:nodetypes=\"ccc\"/>\n",
       "    <text xml:space=\"preserve\" transform=\"matrix(1.7007195,0,0,1.7007195,-351.95849,-464.47819)\" id=\"text13\" style=\"font-size:2.66667px;white-space:pre;shape-inside:url(#rect13);display:inline;opacity:1;fill:#000000;fill-opacity:1;stroke:none;stroke-width:0.302362;stroke-dasharray:none;stroke-dashoffset:0;stroke-opacity:1\"><tspan x=\"291.55469\" y=\"375.52273\" id=\"tspan18\">d cos(90°-θ) = d sin(θ)</tspan></text>\n",
       "    <text xml:space=\"preserve\" transform=\"matrix(1.7007195,0,0,1.7007195,-308.76033,-504.78839)\" id=\"text14\" style=\"font-size:2.66667px;white-space:pre;shape-inside:url(#rect14);display:inline;opacity:1;fill:#000000;fill-opacity:1;stroke:none;stroke-width:0.302362;stroke-dasharray:none;stroke-dashoffset:0;stroke-opacity:1\"><tspan x=\"291.55469\" y=\"375.52273\" id=\"tspan23\">d sin(90°-θ) = d cos(θ)</tspan></text>\n",
       "    <text xml:space=\"preserve\" transform=\"matrix(1.7007195,0,0,1.7007195,-345.90922,-510.92734)\" id=\"text15\" style=\"font-size:2.66667px;white-space:pre;shape-inside:url(#rect15);display:inline;opacity:1;fill:none;fill-opacity:1;stroke:none;stroke-width:0.302362;stroke-dasharray:none;stroke-dashoffset:0;stroke-opacity:1\"><tspan x=\"257.00781\" y=\"380.38601\" id=\"tspan28\">Beam</tspan></text>\n",
       "    <text xml:space=\"preserve\" transform=\"matrix(1.7007195,0,0,1.7007195,-374.33839,-547.87473)\" id=\"text16\" style=\"font-size:2.66667px;white-space:pre;shape-inside:url(#rect16);display:inline;opacity:1;fill:#0700ff;fill-opacity:1;stroke:none;stroke-width:0.245669;stroke-dasharray:none;stroke-dashoffset:0;stroke-opacity:1\"><tspan x=\"275.90625\" y=\"404.95827\" id=\"tspan29\">Beam\n",
       "</tspan></text>\n",
       "    <text xml:space=\"preserve\" transform=\"matrix(1.7007195,0,0,1.7007195,-291.63361,-591.29352)\" id=\"text17\" style=\"font-size:2.66667px;white-space:pre;shape-inside:url(#rect17);display:inline;opacity:1;fill:#000000;fill-opacity:1;stroke:none;stroke-width:0.245669;stroke-dasharray:none;stroke-dashoffset:0;stroke-opacity:1\"><tspan x=\"275.90625\" y=\"404.95827\" id=\"tspan30\">Detector</tspan></text>\n",
       "    <path style=\"opacity:1;fill:none;fill-opacity:1;stroke:#000000;stroke-width:0.514233;stroke-dasharray:none;stroke-dashoffset:0;stroke-opacity:1;marker-start:url(#ArrowWide)\" d=\"m 64.751495,144.51147 v 19.28375\" id=\"path20\" sodipodi:nodetypes=\"cc\"/>\n",
       "    <path style=\"opacity:1;fill:#bbbbbb;fill-opacity:1;stroke:#000000;stroke-width:0.514233;stroke-dasharray:none;stroke-dashoffset:0;stroke-opacity:1;marker-start:url(#marker24)\" d=\"M 84.03525,163.94757 64.751502,163.79522\" id=\"path23\"/>\n",
       "    <text xml:space=\"preserve\" style=\"font-size:4.53525px;fill:#000000;fill-opacity:1;stroke:none;stroke-width:0.417814;stroke-dasharray:none;stroke-dashoffset:0;stroke-opacity:1\" x=\"85.654655\" y=\"165.15324\" id=\"text24\"><tspan sodipodi:role=\"line\" id=\"tspan24\" style=\"font-size:4.53525px;opacity:1;fill:#000000;fill-opacity:1;stroke:none;stroke-width:0.417815\" x=\"85.654655\" y=\"165.15324\">x<tspan style=\"font-size:2.94792px;baseline-shift:sub;stroke-width:0.417815\" id=\"tspan26\">s</tspan></tspan></text>\n",
       "    <text xml:space=\"preserve\" style=\"font-size:4.53525px;fill:#000000;fill-opacity:1;stroke:none;stroke-width:0.417814;stroke-dasharray:none;stroke-dashoffset:0;stroke-opacity:1\" x=\"63.592728\" y=\"141.84813\" id=\"text25\"><tspan sodipodi:role=\"line\" id=\"tspan25\" style=\"font-size:4.53525px;opacity:1;fill:#000000;fill-opacity:1;stroke:none;stroke-width:0.417815\" x=\"63.592728\" y=\"141.84813\">y<tspan style=\"font-size:2.94792px;baseline-shift:sub;stroke-width:0.417815\" id=\"tspan27\">s</tspan></tspan></text>\n",
       "  </g>\n",
       "</svg>"
      ],
      "text/plain": [
       "<IPython.core.display.SVG object>"
      ]
     },
     "execution_count": 3,
     "metadata": {},
     "output_type": "execute_result"
    }
   ],
   "source": [
    "SVG(filename = \"jupyter diagrams/detector origin.svg\")"
   ]
  },
  {
   "cell_type": "markdown",
   "id": "4eb4a0e9-59c7-411d-b80e-33c0dee4b24e",
   "metadata": {},
   "source": [
    "The detector's orientation must also be specified. We do so by considering a spherical coordinate system which uses identical x, y, and, z axes to the sample coordinate system. Two angles $\\alpha$ and $\\beta$ specify a direction in this coorinate system which defines a direction normal to the surface of the detector."
   ]
  },
  {
   "cell_type": "code",
   "execution_count": 4,
   "id": "66485f5f-aa99-48c9-9499-fa73c6308611",
   "metadata": {},
   "outputs": [
    {
     "data": {
      "image/svg+xml": [
       "<svg xmlns:inkscape=\"http://www.inkscape.org/namespaces/inkscape\" xmlns:sodipodi=\"http://sodipodi.sourceforge.net/DTD/sodipodi-0.dtd\" xmlns=\"http://www.w3.org/2000/svg\" xmlns:svg=\"http://www.w3.org/2000/svg\" width=\"148.19424mm\" height=\"146.27008mm\" viewBox=\"0 0 148.19425 146.27008\" version=\"1.1\" id=\"svg1\" inkscape:version=\"1.3.2 (091e20e, 2023-11-25, custom)\" sodipodi:docname=\"spherical coordinate system.svg\">\n",
       "  <sodipodi:namedview id=\"namedview1\" pagecolor=\"#ffffff\" bordercolor=\"#000000\" borderopacity=\"0.25\" inkscape:showpageshadow=\"2\" inkscape:pageopacity=\"0.0\" inkscape:pagecheckerboard=\"0\" inkscape:deskcolor=\"#d1d1d1\" inkscape:document-units=\"mm\" showgrid=\"true\" inkscape:zoom=\"0.5\" inkscape:cx=\"112\" inkscape:cy=\"429\" inkscape:window-width=\"1920\" inkscape:window-height=\"1017\" inkscape:window-x=\"-8\" inkscape:window-y=\"-8\" inkscape:window-maximized=\"1\" inkscape:current-layer=\"layer1\">\n",
       "    <inkscape:grid id=\"grid1\" units=\"mm\" originx=\"-95.371124\" originy=\"-151.20088\" spacingx=\"0.99999998\" spacingy=\"1\" empcolor=\"#0099e5\" empopacity=\"0.30196078\" color=\"#0099e5\" opacity=\"0.14901961\" empspacing=\"5\" dotted=\"false\" gridanglex=\"30\" gridanglez=\"30\" visible=\"true\"/>\n",
       "  </sodipodi:namedview>\n",
       "  <defs id=\"defs1\">\n",
       "    <marker style=\"overflow:visible\" id=\"marker4\" refX=\"0\" refY=\"0\" orient=\"auto-start-reverse\" inkscape:stockid=\"Wide arrow\" markerWidth=\"1\" markerHeight=\"1\" viewBox=\"0 0 1 1\" inkscape:isstock=\"true\" inkscape:collect=\"always\" preserveAspectRatio=\"xMidYMid\">\n",
       "      <path style=\"fill:none;stroke:context-stroke;stroke-width:1;stroke-linecap:butt\" d=\"M 3,-3 0,0 3,3\" transform=\"rotate(180,0.125,0)\" sodipodi:nodetypes=\"ccc\" id=\"path1\"/>\n",
       "    </marker>\n",
       "    <marker style=\"overflow:visible\" id=\"ArrowWide\" refX=\"0\" refY=\"0\" orient=\"auto-start-reverse\" inkscape:stockid=\"Wide arrow\" markerWidth=\"1\" markerHeight=\"1\" viewBox=\"0 0 1 1\" inkscape:isstock=\"true\" inkscape:collect=\"always\" preserveAspectRatio=\"xMidYMid\">\n",
       "      <path style=\"fill:none;stroke:context-stroke;stroke-width:1;stroke-linecap:butt\" d=\"M 3,-3 0,0 3,3\" transform=\"rotate(180,0.125,0)\" sodipodi:nodetypes=\"ccc\" id=\"path22\"/>\n",
       "    </marker>\n",
       "    <marker style=\"overflow:visible\" id=\"marker24\" refX=\"0\" refY=\"0\" orient=\"auto-start-reverse\" inkscape:stockid=\"Wide arrow\" markerWidth=\"1\" markerHeight=\"1\" viewBox=\"0 0 1 1\" inkscape:isstock=\"true\" inkscape:collect=\"always\" preserveAspectRatio=\"xMidYMid\">\n",
       "      <path style=\"fill:none;stroke:context-stroke;stroke-width:1;stroke-linecap:butt\" d=\"M 3,-3 0,0 3,3\" transform=\"rotate(180,0.125,0)\" sodipodi:nodetypes=\"ccc\" id=\"path24\"/>\n",
       "    </marker>\n",
       "  </defs>\n",
       "  <g inkscape:label=\"Layer 1\" inkscape:groupmode=\"layer\" id=\"layer1\" transform=\"translate(-95.371123,-151.20087)\">\n",
       "    <path style=\"fill:none;fill-opacity:1;stroke:#000000;stroke-width:1.70188;stroke-dasharray:none;stroke-dashoffset:0;stroke-opacity:1;marker-start:url(#ArrowWide)\" d=\"m 160.82017,168.20159 v 63.82024\" id=\"path20\" sodipodi:nodetypes=\"cc\"/>\n",
       "    <path style=\"fill:#bbbbbb;fill-opacity:1;stroke:#000000;stroke-width:1.70188;stroke-dasharray:none;stroke-dashoffset:0;stroke-opacity:1;marker-start:url(#marker24)\" d=\"m 224.64042,232.52601 -63.82025,-0.50418\" id=\"path23\"/>\n",
       "    <text xml:space=\"preserve\" style=\"font-size:15.0095px;fill:#000000;fill-opacity:1;stroke:none;stroke-width:1.38277;stroke-dasharray:none;stroke-dashoffset:0;stroke-opacity:1\" x=\"230\" y=\"236.51634\" id=\"text24\"><tspan sodipodi:role=\"line\" id=\"tspan24\" style=\"font-size:15.0095px;opacity:1;fill:#000000;fill-opacity:1;stroke:none;stroke-width:1.38277\" x=\"230\" y=\"236.51634\">y<tspan style=\"font-size:9.75622px;baseline-shift:sub;stroke-width:1.38277\" id=\"tspan1\">s</tspan></tspan></text>\n",
       "    <text xml:space=\"preserve\" style=\"font-size:15.0095px;fill:#000000;fill-opacity:1;stroke:none;stroke-width:1.38277;stroke-dasharray:none;stroke-dashoffset:0;stroke-opacity:1\" x=\"156.98528\" y=\"159.38721\" id=\"text25\"><tspan sodipodi:role=\"line\" id=\"tspan25\" style=\"font-size:15.0095px;opacity:1;fill:#000000;fill-opacity:1;stroke:none;stroke-width:1.38277\" x=\"156.98528\" y=\"159.38721\">z<tspan style=\"font-size:9.75622px;baseline-shift:sub;stroke-width:1.38277\" id=\"tspan2\">s</tspan></tspan></text>\n",
       "    <path style=\"fill:none;fill-opacity:1;stroke:#000000;stroke-width:1.70188;stroke-dasharray:5.10563, 1.70188;stroke-dashoffset:0;stroke-opacity:1;marker-start:url(#ArrowWide)\" d=\"M 160.82017,295.84208 V 232.02183\" id=\"path2\" sodipodi:nodetypes=\"cc\"/>\n",
       "    <path style=\"fill:none;fill-opacity:1;stroke:#000000;stroke-width:1.70188;stroke-dasharray:5.10563, 1.70188;stroke-dashoffset:0;stroke-opacity:1;marker-start:url(#ArrowWide)\" d=\"M 97.000004,232.02183 H 160.82017\" id=\"path3\" sodipodi:nodetypes=\"cc\"/>\n",
       "    <path style=\"fill:#bbbbbb;stroke:#000000;stroke-width:1.70188;stroke-dasharray:none;stroke-dashoffset:0;marker-end:url(#marker4)\" d=\"m 160.82017,232.02163 -30.55378,34.30913\" id=\"path4\" sodipodi:nodetypes=\"cc\"/>\n",
       "    <path style=\"fill:#bbbbbb;stroke:#000000;stroke-width:1.70188;stroke-dasharray:5.10563, 1.70188;stroke-dashoffset:0;marker-end:url(#marker4)\" d=\"M 160.82017,232.02183 191.37391,197.7127\" id=\"path5\" sodipodi:nodetypes=\"cc\"/>\n",
       "    <text xml:space=\"preserve\" style=\"font-size:15.0095px;fill:#000000;fill-opacity:1;stroke:none;stroke-width:1.38277;stroke-dasharray:none;stroke-dashoffset:0;stroke-opacity:1\" x=\"122.7646\" y=\"279.715\" id=\"text6\"><tspan sodipodi:role=\"line\" id=\"tspan6\" style=\"font-size:15.0095px;opacity:1;fill:#000000;fill-opacity:1;stroke:none;stroke-width:1.38277\" x=\"122.7646\" y=\"279.715\">x<tspan style=\"font-size:9.75622px;baseline-shift:sub;stroke-width:1.38277\" id=\"tspan5\">s</tspan></tspan></text>\n",
       "    <path style=\"fill:none;stroke:#00fd00;stroke-width:1.70188;stroke-dasharray:none;stroke-dashoffset:0;stroke-opacity:1\" d=\"m 182.09359,189.4748 -21.27342,42.54683\" id=\"path6\"/>\n",
       "    <circle style=\"fill:#000000;fill-opacity:1;stroke:none;stroke-width:0.379414;stroke-dasharray:none;stroke-dashoffset:0;stroke-opacity:1\" id=\"path7\" cx=\"182.09358\" cy=\"189.48994\" r=\"2.3713424\"/>\n",
       "    <path style=\"fill:#000000;fill-opacity:1;stroke:#000000;stroke-width:0.850936;stroke-dasharray:1.70188, 0.850936;stroke-dashoffset:0;stroke-opacity:1\" d=\"m 182.09359,189.4748 v 60.21461\" id=\"path9\"/>\n",
       "    <path style=\"fill:#000000;fill-opacity:1;stroke:#964fff;stroke-width:1.70188;stroke-dasharray:none;stroke-dashoffset:0;stroke-opacity:1\" d=\"M 182.09359,249.68941 160.82017,232.02163\" id=\"path10\"/>\n",
       "    <path style=\"fill:none;fill-opacity:1;stroke:#000000;stroke-width:0.850936;stroke-dasharray:none;stroke-dashoffset:0;stroke-opacity:1\" d=\"m 160.82017,210.74821 c 4.14767,0 6.3382,2.51431 7.57354,6.12632\" id=\"path11\" sodipodi:nodetypes=\"cc\"/>\n",
       "    <path style=\"fill:none;fill-opacity:1;stroke:#000000;stroke-width:0.850936;stroke-dasharray:none;stroke-dashoffset:0;stroke-opacity:1\" d=\"m 149.86433,244.32404 c 4.50584,2.68939 18.10753,4.30999 23.23378,-2.10607\" id=\"path12\" sodipodi:nodetypes=\"cc\"/>\n",
       "    <text xml:space=\"preserve\" style=\"font-size:11.2572px;fill:none;fill-opacity:1;stroke:#000000;stroke-width:0.850936;stroke-dasharray:none;stroke-dashoffset:0;stroke-opacity:1\" x=\"162.84068\" y=\"206.96091\" id=\"text12\"><tspan sodipodi:role=\"line\" id=\"tspan12\" style=\"font-size:11.2572px;fill:#000000;fill-opacity:1;stroke:none;stroke-width:0.850936\" x=\"162.84068\" y=\"206.96091\">α</tspan></text>\n",
       "    <text xml:space=\"preserve\" style=\"font-size:11.2572px;fill:none;fill-opacity:1;stroke:#000000;stroke-width:0.850936;stroke-dasharray:none;stroke-dashoffset:0;stroke-opacity:1\" x=\"164.86021\" y=\"258.58603\" id=\"text13\"><tspan sodipodi:role=\"line\" id=\"tspan13\" style=\"font-size:11.2572px;fill:#000000;fill-opacity:1;stroke:none;stroke-width:0.850936\" x=\"164.86021\" y=\"258.58603\">β</tspan></text>\n",
       "    <path style=\"fill:#bbbbbb;stroke:#000000;stroke-width:0.850936;stroke-dasharray:1.70188, 0.850936;stroke-dashoffset:0\" d=\"m 197.40215,232.20967 -15.30856,17.47974\" id=\"path13\" sodipodi:nodetypes=\"cc\"/>\n",
       "    <path style=\"fill:#000000;fill-opacity:1;stroke:#000000;stroke-width:0.850936;stroke-dasharray:1.70188, 0.850936;stroke-dashoffset:0;stroke-opacity:1\" d=\"M 182.09359,249.68941 H 145.08622\" id=\"path14\"/>\n",
       "  </g>\n",
       "</svg>"
      ],
      "text/plain": [
       "<IPython.core.display.SVG object>"
      ]
     },
     "execution_count": 4,
     "metadata": {},
     "output_type": "execute_result"
    }
   ],
   "source": [
    "SVG(filename = \"jupyter diagrams/spherical coordinate system.svg\")"
   ]
  },
  {
   "cell_type": "markdown",
   "id": "8e197e77-a3e5-426e-ab9a-29fc6336c62c",
   "metadata": {},
   "source": [
    "We define $\\hat{z}_d$ as a unit vector in the direction specified by $\\alpha$ and $\\beta$. We can define $\\hat{x}_d$ and $\\hat{y}_d$ arbitrarily as any vectors which are perpendicular to $\\hat{z}_d$ and each other. These vectors define a new coordinate system: \"detector coordinates\". The idea here is that because the surface of the detector is a circle, it will be relatively straightforward to sample points from the surface of the detector systematically in a coordinate system where the detector's center is the origin and the whole of the detector's surface lies in the xy plane. This will make things easier to calculate later down the line.\n",
    "\n",
    "$\\alpha$ and $\\beta$ are calculated such that the surface normal from the center of the detector points directly at the center of the illuminated area. Because the $\\hat{z}_s$ direction is perpendicular to the plane in which the detector moves relative to the sample surface, $\\alpha$ is always taken to be $\\frac{\\pi}{2}$, which places the surface normals from both the sample in the detector in the same plane. $\\beta$ is taken as 270° - $\\theta$ to keep the detector pointed directly at the center of the illuminated region."
   ]
  },
  {
   "cell_type": "code",
   "execution_count": 5,
   "id": "a4356e7d-158e-4cb6-9168-b7cf538be79a",
   "metadata": {},
   "outputs": [
    {
     "data": {
      "image/svg+xml": [
       "<svg xmlns:inkscape=\"http://www.inkscape.org/namespaces/inkscape\" xmlns:sodipodi=\"http://sodipodi.sourceforge.net/DTD/sodipodi-0.dtd\" xmlns=\"http://www.w3.org/2000/svg\" xmlns:svg=\"http://www.w3.org/2000/svg\" width=\"183.30312mm\" height=\"180.23064mm\" viewBox=\"0 0 183.30312 180.23064\" version=\"1.1\" id=\"svg1\" inkscape:version=\"1.3.2 (091e20e, 2023-11-25, custom)\" sodipodi:docname=\"detector orientation.svg\">\n",
       "  <sodipodi:namedview id=\"namedview1\" pagecolor=\"#ffffff\" bordercolor=\"#000000\" borderopacity=\"0.25\" inkscape:showpageshadow=\"2\" inkscape:pageopacity=\"0.0\" inkscape:pagecheckerboard=\"0\" inkscape:deskcolor=\"#d1d1d1\" inkscape:document-units=\"mm\" showgrid=\"true\" inkscape:zoom=\"0.69219275\" inkscape:cx=\"31.783055\" inkscape:cy=\"509.25122\" inkscape:window-width=\"1920\" inkscape:window-height=\"1017\" inkscape:window-x=\"-8\" inkscape:window-y=\"-8\" inkscape:window-maximized=\"1\" inkscape:current-layer=\"layer1\">\n",
       "    <inkscape:grid id=\"grid1\" units=\"mm\" originx=\"-68.068928\" originy=\"-91.803894\" spacingx=\"0.99999998\" spacingy=\"1\" empcolor=\"#0099e5\" empopacity=\"0.30196078\" color=\"#0099e5\" opacity=\"0.14901961\" empspacing=\"5\" dotted=\"false\" gridanglex=\"30\" gridanglez=\"30\" visible=\"true\"/>\n",
       "  </sodipodi:namedview>\n",
       "  <defs id=\"defs1\">\n",
       "    <rect x=\"320.76547\" y=\"402.03699\" width=\"1.4684725\" height=\"5.4102497\" id=\"rect18\"/>\n",
       "    <marker style=\"overflow:visible\" id=\"ArrowWideHeavy\" refX=\"0\" refY=\"0\" orient=\"auto-start-reverse\" inkscape:stockid=\"Wide, heavy arrow\" markerWidth=\"1\" markerHeight=\"1\" viewBox=\"0 0 1 1\" inkscape:isstock=\"true\" inkscape:collect=\"always\" preserveAspectRatio=\"xMidYMid\">\n",
       "      <path style=\"fill:context-stroke;fill-rule:evenodd;stroke:none\" d=\"m 1,0 -3,3 h -2 l 3,-3 -3,-3 h 2 z\" id=\"path11\"/>\n",
       "    </marker>\n",
       "    <marker style=\"overflow:visible\" id=\"marker24\" refX=\"0\" refY=\"0\" orient=\"auto-start-reverse\" inkscape:stockid=\"Wide arrow\" markerWidth=\"1\" markerHeight=\"1\" viewBox=\"0 0 1 1\" inkscape:isstock=\"true\" inkscape:collect=\"always\" preserveAspectRatio=\"xMidYMid\">\n",
       "      <path style=\"fill:none;stroke:context-stroke;stroke-width:1;stroke-linecap:butt\" d=\"M 3,-3 0,0 3,3\" transform=\"rotate(180,0.125,0)\" sodipodi:nodetypes=\"ccc\" id=\"path24\"/>\n",
       "    </marker>\n",
       "    <marker style=\"overflow:visible\" id=\"ArrowWide\" refX=\"0\" refY=\"0\" orient=\"auto-start-reverse\" inkscape:stockid=\"Wide arrow\" markerWidth=\"1\" markerHeight=\"1\" viewBox=\"0 0 1 1\" inkscape:isstock=\"true\" inkscape:collect=\"always\" preserveAspectRatio=\"xMidYMid\">\n",
       "      <path style=\"fill:none;stroke:context-stroke;stroke-width:1;stroke-linecap:butt\" d=\"M 3,-3 0,0 3,3\" transform=\"rotate(180,0.125,0)\" sodipodi:nodetypes=\"ccc\" id=\"path22\"/>\n",
       "    </marker>\n",
       "    <rect x=\"257.00787\" y=\"377.95276\" width=\"15.118111\" height=\"6.1485705\" id=\"rect15\"/>\n",
       "    <rect x=\"291.55536\" y=\"373.08972\" width=\"3.9728818\" height=\"3.8825891\" id=\"rect10\"/>\n",
       "    <rect x=\"275.90552\" y=\"402.52515\" width=\"41.574806\" height=\"20.781919\" id=\"rect7\"/>\n",
       "    <rect x=\"291.55536\" y=\"373.08972\" width=\"27.810173\" height=\"4.4487715\" id=\"rect13\"/>\n",
       "    <rect x=\"291.55536\" y=\"373.08972\" width=\"27.810173\" height=\"4.4487715\" id=\"rect14\"/>\n",
       "    <rect x=\"275.90552\" y=\"402.52515\" width=\"18.897638\" height=\"5.6638069\" id=\"rect16\"/>\n",
       "    <rect x=\"275.90552\" y=\"402.52515\" width=\"18.897638\" height=\"5.6638069\" id=\"rect17\"/>\n",
       "  </defs>\n",
       "  <g inkscape:label=\"Layer 1\" inkscape:groupmode=\"layer\" id=\"layer1\" transform=\"translate(-68.068923,-91.803895)\">\n",
       "    <rect style=\"fill:#bbbbbb;fill-opacity:1;stroke:#000000;stroke-width:0.765468;stroke-dasharray:none;stroke-opacity:1\" id=\"rect1\" width=\"143.38126\" height=\"53.510475\" x=\"86.618744\" y=\"218.14133\"/>\n",
       "    <path style=\"fill:none;stroke:#0700ff;stroke-width:0.621945;stroke-dasharray:0.621945, 0.621945;stroke-dashoffset:0;stroke-opacity:1\" d=\"m 166.3662,209.07779 -8.99137,-3.27247 -3.27265,8.99121\" id=\"path2\" sodipodi:nodetypes=\"ccc\"/>\n",
       "    <ellipse style=\"opacity:0.63141;fill:#9c9c9c;fill-opacity:1;stroke:#000000;stroke-width:0.621945;stroke-dasharray:none;stroke-dashoffset:0;stroke-opacity:1\" id=\"path3\" cx=\"227.89282\" cy=\"53.593037\" rx=\"28.705135\" ry=\"4.7841887\" transform=\"rotate(20)\"/>\n",
       "    <path style=\"fill:none;stroke:#000000;stroke-width:0.621945;stroke-dasharray:none;stroke-dashoffset:0;stroke-opacity:1\" d=\"m 128.46938,205.59491 c -2.4002,2.99003 -4.38325,6.33034 -3.0288,12.47428\" id=\"path4\" sodipodi:nodetypes=\"cc\"/>\n",
       "    <path style=\"fill:none;stroke:#000000;stroke-width:0.621945;stroke-dasharray:none;stroke-dashoffset:0;stroke-opacity:1\" d=\"m 168.27546,203.83202 c 7.71411,3.30022 8.67304,8.67594 7.45453,14.23707\" id=\"path5\" sodipodi:nodetypes=\"cc\"/>\n",
       "    <text xml:space=\"preserve\" style=\"font-size:6.75102px;fill:#000000;fill-opacity:1;stroke:none;stroke-width:0.621945;stroke-dasharray:none;stroke-dashoffset:0;stroke-opacity:1\" x=\"118.2521\" y=\"213.66536\" id=\"text5\"><tspan sodipodi:role=\"line\" id=\"tspan5\" style=\"font-size:6.75102px;opacity:1;fill:#000000;fill-opacity:1;stroke:none;stroke-width:0.621945\" x=\"118.2521\" y=\"213.66536\">θ</tspan></text>\n",
       "    <text xml:space=\"preserve\" style=\"font-size:6.75102px;fill:#000000;fill-opacity:1;stroke:none;stroke-width:0.621945;stroke-dasharray:none;stroke-dashoffset:0;stroke-opacity:1\" x=\"173.30191\" y=\"205.52742\" id=\"text6\"><tspan sodipodi:role=\"line\" id=\"tspan6\" style=\"font-size:6.75102px;opacity:1;fill:#000000;fill-opacity:1;stroke:none;stroke-width:0.621945\" x=\"173.30191\" y=\"205.52742\" dy=\"0 0 0 0 -9.9836317e-10\" dx=\"0 0 0 0 -0.080818124\">90°-θ</tspan></text>\n",
       "    <text xml:space=\"preserve\" transform=\"matrix(2.5316334,0,0,2.5316334,-563.69116,-778.45706)\" id=\"text7\" style=\"font-size:2.66667px;white-space:pre;shape-inside:url(#rect7);display:inline;opacity:1;fill:#000000;fill-opacity:1;stroke:none;stroke-width:0.245669;stroke-dasharray:none;stroke-dashoffset:0;stroke-opacity:1\"><tspan x=\"275.90625\" y=\"407.39115\" id=\"tspan2\"><tspan style=\"font-size:5.33333px\" id=\"tspan1\">Sample</tspan>\n",
       "</tspan></text>\n",
       "    <path style=\"opacity:1;fill:#000000;fill-opacity:1;stroke:#000000;stroke-width:0.621945;stroke-dasharray:0.621945, 0.621945;stroke-dashoffset:0;stroke-opacity:1\" d=\"m 195.81925,128.15573 v 89.91336\" id=\"path7\"/>\n",
       "    <text xml:space=\"preserve\" transform=\"matrix(2.5316334,0,0,2.5316334,-583.23992,-786.61052)\" id=\"text15\" style=\"font-size:2.66667px;white-space:pre;shape-inside:url(#rect15);display:inline;opacity:1;fill:none;fill-opacity:1;stroke:none;stroke-width:0.302362;stroke-dasharray:none;stroke-dashoffset:0;stroke-opacity:1\"><tspan x=\"257.00781\" y=\"380.38601\" id=\"tspan3\">Beam</tspan></text>\n",
       "    <text xml:space=\"preserve\" transform=\"matrix(2.5316334,0,0,2.5316334,-625.55864,-841.60917)\" id=\"text16\" style=\"font-size:2.66667px;white-space:pre;shape-inside:url(#rect16);display:inline;opacity:1;fill:#0700ff;fill-opacity:1;stroke:none;stroke-width:0.245669;stroke-dasharray:none;stroke-dashoffset:0;stroke-opacity:1\"><tspan x=\"275.90625\" y=\"404.95827\" id=\"tspan4\">Beam\n",
       "</tspan></text>\n",
       "    <text xml:space=\"preserve\" transform=\"matrix(2.5316334,0,0,2.5316334,-556.7128,-911.97577)\" id=\"text17\" style=\"font-size:2.66667px;white-space:pre;shape-inside:url(#rect17);display:inline;opacity:1;fill:#000000;fill-opacity:1;stroke:none;stroke-width:0.245669;stroke-dasharray:none;stroke-dashoffset:0;stroke-opacity:1\"><tspan x=\"275.90625\" y=\"404.95827\" id=\"tspan7\">Detector</tspan></text>\n",
       "    <path style=\"opacity:1;fill:none;fill-opacity:1;stroke:#000000;stroke-width:0.765468;stroke-dasharray:none;stroke-dashoffset:0;stroke-opacity:1;marker-start:url(#ArrowWide)\" d=\"M 195.81925,99.450579 V 128.15573\" id=\"path20\" sodipodi:nodetypes=\"cc\"/>\n",
       "    <path style=\"opacity:1;fill:none;fill-opacity:1;stroke:#000000;stroke-width:0.621945;stroke-dasharray:none\" id=\"path12\" sodipodi:type=\"arc\" sodipodi:cx=\"196.13036\" sodipodi:cy=\"128.14328\" sodipodi:rx=\"4.7841897\" sodipodi:ry=\"4.7841887\" sodipodi:start=\"1.9821608\" sodipodi:end=\"0.0255692\" sodipodi:arc-type=\"slice\" d=\"m 194.21735,132.52835 a 4.7841897,4.7841887 0 0 1 -2.68119,-5.71992 4.7841897,4.7841887 0 0 1 5.32884,-3.3926 4.7841897,4.7841887 0 0 1 4.04798,4.84976 l -4.78262,-0.12231 z\"/>\n",
       "    <path style=\"opacity:1;fill:#bbbbbb;fill-opacity:1;stroke:#000000;stroke-width:0.765468;stroke-dasharray:none;stroke-dashoffset:0;stroke-opacity:1;marker-start:url(#marker24)\" d=\"M 224.52439,128.38247 195.81925,128.1556\" id=\"path23\"/>\n",
       "    <text xml:space=\"preserve\" style=\"font-size:6.75102px;fill:#000000;fill-opacity:1;stroke:none;stroke-width:0.621945;stroke-dasharray:none;stroke-dashoffset:0;stroke-opacity:1\" x=\"226.93501\" y=\"130.17717\" id=\"text24\"><tspan sodipodi:role=\"line\" id=\"tspan24\" style=\"font-size:6.75102px;opacity:1;fill:#000000;fill-opacity:1;stroke:none;stroke-width:0.621945\" x=\"226.93501\" y=\"130.17717\">x<tspan style=\"font-size:4.38818px;baseline-shift:sub;stroke-width:0.621945\" id=\"tspan26\">s</tspan></tspan></text>\n",
       "    <text xml:space=\"preserve\" style=\"font-size:6.75102px;fill:#000000;fill-opacity:1;stroke:none;stroke-width:0.621945;stroke-dasharray:none;stroke-dashoffset:0;stroke-opacity:1\" x=\"194.09438\" y=\"95.48597\" id=\"text25\"><tspan sodipodi:role=\"line\" id=\"tspan25\" style=\"font-size:6.75102px;opacity:1;fill:#000000;fill-opacity:1;stroke:none;stroke-width:0.621945\" x=\"194.09438\" y=\"95.48597\">y<tspan style=\"font-size:4.38818px;baseline-shift:sub;stroke-width:0.621945\" id=\"tspan27\">s</tspan></tspan></text>\n",
       "    <path style=\"fill:none;stroke:#000000;stroke-width:0.621945;stroke-dasharray:none\" d=\"m 185.2615,157.16307 c 2.17779,2.51257 5.26845,3.97866 10.55775,2.92438\" id=\"path6\" sodipodi:nodetypes=\"cc\"/>\n",
       "    <text xml:space=\"preserve\" style=\"font-size:6.75102px;fill:#000000;fill-opacity:1;stroke:none;stroke-width:0.621945;stroke-dasharray:none;stroke-dashoffset:0;stroke-opacity:1\" x=\"188.44482\" y=\"167.43736\" id=\"text11\"><tspan sodipodi:role=\"line\" id=\"tspan11\" style=\"font-size:6.75102px;opacity:1;fill:#000000;fill-opacity:1;stroke:none;stroke-width:0.621945\" x=\"188.44482\" y=\"167.43736\">θ</tspan></text>\n",
       "    <path style=\"fill:none;stroke:#0700ff;stroke-width:1.57878;stroke-dasharray:none;stroke-opacity:1;marker-end:url(#ArrowWideHeavy)\" d=\"m 82.171456,188.61591 80.922134,29.45328 m 32.72566,-89.91346 -32.72566,89.91346\" id=\"path1\" sodipodi:nodetypes=\"cccc\"/>\n",
       "    <text xml:space=\"preserve\" style=\"font-size:10.1265px;opacity:1;fill:#000000;fill-opacity:1;stroke:none;stroke-width:0.621945;stroke-dasharray:none\" x=\"197.52556\" y=\"118.58397\" id=\"text12\"><tspan sodipodi:role=\"line\" id=\"tspan12\" style=\"font-size:10.1265px;fill:#000000;fill-opacity:1;stroke:none;stroke-width:0.621945\" x=\"197.52556\" y=\"118.58397\">β=270°- θ </tspan></text>\n",
       "    <text xml:space=\"preserve\" style=\"font-size:0.705556px;white-space:pre;inline-size:11.5653;display:inline;opacity:1;fill:#000000;fill-opacity:1;stroke:none;stroke-width:0.0649999;stroke-dasharray:none\" x=\"70.434738\" y=\"106.20296\" id=\"text13\" transform=\"matrix(9.5683784,0,0,9.5683784,-559.04659,-789.04319)\"><tspan x=\"70.434738\" y=\"106.20296\" id=\"tspan9\"><tspan style=\"stroke-width:0.065\" id=\"tspan8\">Center of illuminated region on </tspan></tspan><tspan x=\"70.434738\" y=\"107.0849\" id=\"tspan17\"><tspan style=\"stroke-width:0.065\" id=\"tspan13\">sample surface</tspan></tspan></text>\n",
       "    <text xml:space=\"preserve\" transform=\"scale(0.26458333)\" id=\"text14\" style=\"font-size:2.66667px;white-space:pre;shape-inside:url(#rect18);display:inline;opacity:1;fill:#000000;fill-opacity:1;stroke:none;stroke-width:0.245669;stroke-dasharray:none\"/>\n",
       "  </g>\n",
       "</svg>"
      ],
      "text/plain": [
       "<IPython.core.display.SVG object>"
      ]
     },
     "execution_count": 5,
     "metadata": {},
     "output_type": "execute_result"
    }
   ],
   "source": [
    "SVG(filename = \"jupyter diagrams/detector orientation.svg\")"
   ]
  },
  {
   "cell_type": "markdown",
   "id": "cbe187d8-ee8a-4d0e-8190-cf768c0ff83d",
   "metadata": {},
   "source": [
    "We can then define a rotation matrix $M$ that allows us to convert a point from detector coordinates to sample coordinates\n",
    "$$\\begin{bmatrix}\n",
    "    x_{d}[0]   & y_{d}[0] & z_{d}[0]  \\\\\n",
    "    x_{d}[1]   & y_{d}[1] & z_{d}[1]  \\\\\n",
    "    x_{d}[2]   & y_{d}[2] & z_{d}[2]  \\\\\n",
    "\\end{bmatrix}$$\n",
    "and an inverse matrix $W = M^{-1}$ which allows us to convert a point from sample coordinates to detector coordinates.\n",
    "\n",
    "Because the sample coordinate system and detector coordinate systems have different origins, coverting a point in one system to another requires us to first multiply by the appropriate transformation matrix, and then shift the position by the difference of the origins. \n",
    "\n",
    "We define below a useful function detector_coordinates_to_sample_coordinates. Because the detector is a circle, it is convenient to specify points on the surface of the detector using polar coodinates. These point must, by definition, lie in the xy plane of the detector coordinate system. The function detector_coordinates_to_sample_coordinates takes polar coordinates in detector space, converts them to cartesian detector coordinates, and then converts from cartesian detector coordinates to cartesian sample coordinates.\n",
    "\n",
    "We also define functions for calculating the incoming and outgoing attenuation of a photon. Both are functions of the path length that a photon takes traveling into the sample and exiting the sample. To reach a point in the illuminated parallelepiped, an incoming photon must traverse a path of a length equal to the depth of the point divided by the sin of the photon's angle of incidence. To escape a point in the illuminated parallelepiped and reach a given point on the detector, a photon must traverse a length of sample equal to the distance between the two points times the depth of the point in the sample divided by the distance between the two points along the $\\hat{y}_s$ axis. We do not consider the attenuation of the photon outside of the sample."
   ]
  },
  {
   "cell_type": "code",
   "execution_count": 6,
   "id": "436c6c7b-39d7-4f83-abbe-edc58527b656",
   "metadata": {},
   "outputs": [
    {
     "data": {
      "image/svg+xml": [
       "<svg xmlns:inkscape=\"http://www.inkscape.org/namespaces/inkscape\" xmlns:sodipodi=\"http://sodipodi.sourceforge.net/DTD/sodipodi-0.dtd\" xmlns=\"http://www.w3.org/2000/svg\" xmlns:svg=\"http://www.w3.org/2000/svg\" width=\"158.951mm\" height=\"84.485939mm\" viewBox=\"0 0 158.951 84.485939\" version=\"1.1\" id=\"svg1\" inkscape:version=\"1.3.2 (091e20e, 2023-11-25, custom)\" sodipodi:docname=\"outgoing photon attenuation.svg\">\n",
       "  <sodipodi:namedview id=\"namedview1\" pagecolor=\"#ffffff\" bordercolor=\"#000000\" borderopacity=\"0.25\" inkscape:showpageshadow=\"2\" inkscape:pageopacity=\"0.0\" inkscape:pagecheckerboard=\"0\" inkscape:deskcolor=\"#d1d1d1\" inkscape:document-units=\"mm\" showgrid=\"true\" inkscape:zoom=\"1.9578168\" inkscape:cx=\"214.78006\" inkscape:cy=\"157.57348\" inkscape:window-width=\"1920\" inkscape:window-height=\"1017\" inkscape:window-x=\"-8\" inkscape:window-y=\"-8\" inkscape:window-maximized=\"1\" inkscape:current-layer=\"layer1\">\n",
       "    <inkscape:grid id=\"grid1\" units=\"mm\" originx=\"-54.307648\" originy=\"-182.58769\" spacingx=\"0.99999998\" spacingy=\"1\" empcolor=\"#0099e5\" empopacity=\"0.30196078\" color=\"#0099e5\" opacity=\"0.14901961\" empspacing=\"5\" dotted=\"false\" gridanglex=\"30\" gridanglez=\"30\" visible=\"true\"/>\n",
       "  </sodipodi:namedview>\n",
       "  <defs id=\"defs1\">\n",
       "    <rect x=\"244.01399\" y=\"708.66461\" width=\"22.976959\" height=\"6.6175022\" id=\"rect19\"/>\n",
       "    <rect x=\"308.89157\" y=\"701.93597\" width=\"28.803392\" height=\"13.995379\" id=\"rect18\"/>\n",
       "    <rect x=\"265.72421\" y=\"704.13257\" width=\"3.2002423\" height=\"2.8792801\" id=\"rect14\"/>\n",
       "    <rect x=\"297.62106\" y=\"713.51801\" width=\"5.8265414\" height=\"10.532492\" id=\"rect13\"/>\n",
       "    <rect x=\"249.44882\" y=\"726.86194\" width=\"2.6495874\" height=\"3.0327148\" id=\"rect12\"/>\n",
       "    <rect x=\"268.34647\" y=\"728.61774\" width=\"4.9809527\" height=\"3.9584911\" id=\"rect11\"/>\n",
       "    <rect x=\"297.62106\" y=\"713.51801\" width=\"5.8265414\" height=\"10.532492\" id=\"rect15\"/>\n",
       "    <rect x=\"297.62106\" y=\"713.51801\" width=\"5.8265414\" height=\"10.532492\" id=\"rect16\"/>\n",
       "    <rect x=\"297.62106\" y=\"713.51801\" width=\"5.8265414\" height=\"10.532492\" id=\"rect17\"/>\n",
       "    <marker style=\"overflow:visible\" id=\"ArrowWide\" refX=\"0\" refY=\"0\" orient=\"auto-start-reverse\" inkscape:stockid=\"Wide arrow\" markerWidth=\"1\" markerHeight=\"1\" viewBox=\"0 0 1 1\" inkscape:isstock=\"true\" inkscape:collect=\"always\" preserveAspectRatio=\"xMidYMid\">\n",
       "      <path style=\"fill:none;stroke:context-stroke;stroke-width:1;stroke-linecap:butt\" d=\"M 3,-3 0,0 3,3\" transform=\"rotate(180,0.125,0)\" sodipodi:nodetypes=\"ccc\" id=\"path22\"/>\n",
       "    </marker>\n",
       "  </defs>\n",
       "  <g inkscape:label=\"Layer 1\" inkscape:groupmode=\"layer\" id=\"layer1\" transform=\"translate(-54.307645,-182.58768)\">\n",
       "    <rect style=\"fill:none;stroke:#000000;stroke-width:0.684534;stroke-dasharray:none;stroke-opacity:1\" id=\"rect1\" width=\"97.790611\" height=\"48.895302\" x=\"80.067078\" y=\"217.83604\"/>\n",
       "    <path style=\"fill:none;stroke:#000000;stroke-width:0.684534;stroke-dasharray:none;stroke-opacity:1\" d=\"m 118.90293,242.2837 44.28617,-58.67442 v 34.22671\" id=\"path3\"/>\n",
       "    <path style=\"fill:none;stroke:#000000;stroke-width:0.684534;stroke-dasharray:none;stroke-opacity:1\" d=\"m 119.18333,217.83599 v 24.44766\" id=\"path4\"/>\n",
       "    <path style=\"fill:none;stroke:#000000;stroke-width:0.684534;stroke-dasharray:none;stroke-opacity:1\" d=\"m 119.18333,222.72553 h 4.88953 v -4.88954\" id=\"path5\"/>\n",
       "    <path style=\"fill:none;stroke:#000000;stroke-width:0.684534;stroke-dasharray:none;stroke-opacity:1\" d=\"m 158.29958,242.28365 v -4.88953 h 4.88953\" id=\"path6\"/>\n",
       "    <path style=\"fill:none;fill-opacity:1;stroke:#000000;stroke-width:0.337378;stroke-dasharray:none;stroke-dashoffset:0;stroke-opacity:1\" d=\"m 164.99999,242.09232 c 7.22786,-3.21496 -2.13104,-25.2954 3.91614,-29.04635 -6.04718,-3.75096 3.31172,-25.8313 -3.91614,-29.04636\" id=\"path9\" sodipodi:nodetypes=\"ccc\"/>\n",
       "    <path style=\"fill:none;fill-opacity:1;stroke:#000000;stroke-width:0.284468;stroke-dasharray:none;stroke-dashoffset:0;stroke-opacity:1\" d=\"m 117.90879,242.14346 c -7.5599,-1.29504 2.22895,-10.18934 -4.09605,-11.7003 6.325,-1.51096 -3.46385,-10.40526 4.09605,-11.70035\" id=\"path9-6\" sodipodi:nodetypes=\"ccc\"/>\n",
       "    <path style=\"fill:none;fill-opacity:1;stroke:#000000;stroke-width:0.337378;stroke-dasharray:none;stroke-dashoffset:0;stroke-opacity:1\" d=\"m 138.15034,218.72022 c 6.34426,6.76813 -9.5464,8.23749 -4.54888,14.3139 -7.19176,-3.15125 -4.21767,12.5991 -12.44276,8.33841\" id=\"path7\" sodipodi:nodetypes=\"ccc\"/>\n",
       "    <path style=\"fill:none;stroke:#000000;stroke-width:0.684534;stroke-dasharray:none;stroke-opacity:1\" d=\"M 119.18333,242.28365 H 163.1891 V 217.83599\" id=\"path10\"/>\n",
       "    <path style=\"fill:none;fill-opacity:1;stroke:#000000;stroke-width:0.337378;stroke-dasharray:none;stroke-dashoffset:0;stroke-opacity:1\" d=\"m 123.91993,235.22429 c -13.85203,-15.15764 20.84355,-18.44835 9.93199,-32.05689 15.70244,7.05745 9.20884,-28.2164 27.16744,-18.67434\" id=\"path11\" sodipodi:nodetypes=\"ccc\"/>\n",
       "    <text xml:space=\"preserve\" transform=\"matrix(1.2936883,0,0,1.2936883,-214.70891,-711.75294)\" id=\"text13\" style=\"font-size:4px;white-space:pre;shape-inside:url(#rect13);display:inline;fill:#000000;fill-opacity:1;stroke:none;stroke-width:0.260787;stroke-dasharray:none;stroke-opacity:1\"><tspan x=\"297.62109\" y=\"717.1669\" id=\"tspan3\">h</tspan></text>\n",
       "    <text xml:space=\"preserve\" transform=\"matrix(1.2936883,0,0,1.2936883,-275.08639,-695.48717)\" id=\"text14\" style=\"font-size:4px;white-space:pre;shape-inside:url(#rect15);display:inline;fill:#000000;fill-opacity:1;stroke:none;stroke-width:0.260787;stroke-dasharray:none;stroke-opacity:1\"><tspan x=\"297.62109\" y=\"717.1669\" id=\"tspan4\">y</tspan></text>\n",
       "    <text xml:space=\"preserve\" transform=\"matrix(1.2936883,0,0,1.2936883,-256.08415,-723.80484)\" id=\"text15\" style=\"font-size:4px;white-space:pre;shape-inside:url(#rect16);display:inline;fill:#000000;fill-opacity:1;stroke:none;stroke-width:0.260787;stroke-dasharray:none;stroke-opacity:1\"><tspan x=\"297.62109\" y=\"717.1669\" id=\"tspan5\">d</tspan></text>\n",
       "    <text xml:space=\"preserve\" transform=\"matrix(1.2936883,0,0,1.2936883,-250.71291,-691.79044)\" id=\"text16\" style=\"font-size:4px;white-space:pre;shape-inside:url(#rect17);display:inline;fill:#000000;fill-opacity:1;stroke:none;stroke-width:0.260787;stroke-dasharray:none;stroke-opacity:1\"><tspan x=\"297.62109\" y=\"717.1669\" id=\"tspan7\">l<tspan style=\"font-size:65%;baseline-shift:sub\" id=\"tspan6\">out</tspan></tspan></text>\n",
       "    <text xml:space=\"preserve\" transform=\"matrix(1.2936883,0,0,1.2936883,-218.08274,-711.33003)\" id=\"text17\" style=\"font-size:4px;white-space:pre;shape-inside:url(#rect18);display:inline;fill:#000000;fill-opacity:1;stroke:none;stroke-width:0.260787;stroke-dasharray:none;stroke-opacity:1\"><tspan x=\"308.89062\" y=\"705.58487\" id=\"tspan9\">l<tspan style=\"font-size:65%;baseline-shift:sub\" id=\"tspan8\">out</tspan> = d*y/h</tspan></text>\n",
       "    <g id=\"g1\" transform=\"matrix(4.8895305,0,0,4.8895305,-256.75833,-295.40597)\">\n",
       "      <path style=\"opacity:1;fill:none;fill-opacity:1;stroke:#000000;stroke-width:0.0799999;stroke-dasharray:none;stroke-dashoffset:0;stroke-opacity:1;marker-start:url(#ArrowWide)\" d=\"m 63.887066,101.96754 v 3\" id=\"path20\" sodipodi:nodetypes=\"cc\"/>\n",
       "      <text xml:space=\"preserve\" style=\"font-size:0.705556px;fill:#000000;fill-opacity:1;stroke:none;stroke-width:0.0649999;stroke-dasharray:none;stroke-dashoffset:0;stroke-opacity:1\" x=\"63.706795\" y=\"101.5532\" id=\"text25\"><tspan sodipodi:role=\"line\" id=\"tspan25\" style=\"font-size:0.705556px;opacity:1;fill:#000000;fill-opacity:1;stroke:none;stroke-width:0.065\" x=\"63.706795\" y=\"101.5532\">y<tspan style=\"font-size:65%;baseline-shift:sub\" id=\"tspan27\">s</tspan></tspan></text>\n",
       "    </g>\n",
       "    <text xml:space=\"preserve\" transform=\"scale(0.26458333)\" id=\"text18\" style=\"font-size:4px;white-space:pre;shape-inside:url(#rect19);display:inline;fill:#000000;fill-opacity:1;stroke:none;stroke-width:0.260787;stroke-dasharray:none;stroke-opacity:1\"/>\n",
       "    <text xml:space=\"preserve\" style=\"font-size:1.05833px;fill:#000000;fill-opacity:1;stroke:none;stroke-width:0.0689999;stroke-dasharray:none;stroke-opacity:1\" x=\"64.293747\" y=\"188.01634\" id=\"text20\"><tspan sodipodi:role=\"line\" id=\"tspan20\" style=\"stroke-width:0.069\" x=\"64.293747\" y=\"188.01634\"/></text>\n",
       "  </g>\n",
       "</svg>"
      ],
      "text/plain": [
       "<IPython.core.display.SVG object>"
      ]
     },
     "execution_count": 6,
     "metadata": {},
     "output_type": "execute_result"
    }
   ],
   "source": [
    "SVG(filename = \"jupyter diagrams/outgoing photon attenuation.svg\")"
   ]
  },
  {
   "cell_type": "markdown",
   "id": "48ed1eb4-9dc3-47cc-99a1-49076efa07d2",
   "metadata": {},
   "source": [
    "We formulate our integral over five dimentions. First, we consider each point in the illuminated parallelepiped, and the attenuation that is applied to the beam as it reaches a point with a given depth. This results in a triple integral over x, y, and z in the sample coordinate system. We imagine each point in the illuminated parallelepiped as a point source, and we consider each unique path that a fluoresced photon can traverse to reach the detector. Each escape path is uniquely associated with a point on the detector, so we can compute each path by integrating over the surface of the detector. We consider the intensity of the point source as falling off as the square of the distance to the point on the detector, and we consider the outgoing attenuation along each path. We also consider a cosine term which represents the diminishment in flux of photons as the photons strike the differential areas on the detector at incident angles off of normal. We throw in an $r$ term as is standard for polar integrals."
   ]
  },
  {
   "cell_type": "markdown",
   "id": "3d407018-3798-46af-b6f7-3900e30d766f",
   "metadata": {},
   "source": [
    "$$\\large{ (photon flux) (quantum yield)\\frac{1}{4\\pi} \\int_{z=0}^{z_{illum}} \\int_{y=-\\infty}^{0} \\int_{x=-\\frac{y}{tan(\\theta)}}^{-\\frac{y}{tan(\\theta)}+x_{illum}}  (incoming attenuation)\\frac{\\mu_i}{sin(\\theta)}  \\int_{\\phi = 0}^{2\\pi}    \\int_{r=0}^{R}  \\frac{r cos(\\gamma)}{distance^2} (outgoing attenuation)  dr d\\phi dx dy dz                } $$"
   ]
  },
  {
   "cell_type": "markdown",
   "id": "4b82f236-2792-42cf-9eb0-7d31b13eb27f",
   "metadata": {
    "jp-MarkdownHeadingCollapsed": true,
    "tags": []
   },
   "source": [
    "# Define Experimental Configuration Class"
   ]
  },
  {
   "cell_type": "code",
   "execution_count": 7,
   "id": "7d04a69b-c4e5-433c-b72a-6c73b7a70929",
   "metadata": {},
   "outputs": [],
   "source": [
    "class experiment:\n",
    "    def __init__(self, \n",
    "                theta = 6,\n",
    "                R = np.sqrt(170/4/np.pi),\n",
    "                beam_width = 3,\n",
    "                beam_height = 1,\n",
    "                photon_flow = 7.7E9,\n",
    "                quantum_yield = 0.08,\n",
    "                #alpha = np.pi/2,\n",
    "                #beta = np.pi/2,\n",
    "                detector_distance = 10,\n",
    "                mu_T_Ef = 222.222,\n",
    "                mu_T_E = 185.1852,\n",
    "                mu_i = 2.8662,\n",
    "                nmc = 50000,\n",
    "                suppress_output = False,\n",
    "                detector_above_sample = False):\n",
    "        #we define here coordinates for the sample\n",
    "        self.x_s = np.array([1, 0, 0]) # x is a unit vector on the sample's surface that defines the dimension of illuminated area which shrinks or elongates as the beam's angle of incidence is varied\n",
    "        self.y_s = np.array([0, 1, 0]) # y is the direction normal to the sample surface\n",
    "        self.z_s = np.array([0, 0, 1]) # z is a unit vector on the sample's surface that defines the dimension of illuminated area which does not change as the beam's angle of incidence is varied\n",
    "        \n",
    "        self.suppress_output = suppress_output\n",
    "        \n",
    "        self.theta = theta*np.pi/180\n",
    "        \n",
    "        self.R = R\n",
    "        self.d = 2*self.R\n",
    "        self.detector_distance = detector_distance\n",
    "        \n",
    "        #if the detector is situated above or below the sample (i.e. towards the ceiling or floor) then the beam's height will be spread out as theta changes\n",
    "        if (detector_above_sample):\n",
    "            self.z_illum = beam_width #in mm\n",
    "            self.x_illum = beam_height/np.sin(self.theta) #in mm\n",
    "        #if the detector is mounted in the same horizontal plane as the sample (as is typical), then the beam's width will be spread out as theta changes\n",
    "        else:\n",
    "            self.z_illum = beam_height #in mm\n",
    "            self.x_illum = beam_width/np.sin(self.theta) #in mm\n",
    "            \n",
    "\n",
    "        self.photon_flow = photon_flow #photons/second\n",
    "        self.photon_flux = self.photon_flow/self.z_illum/self.x_illum #photons/s/mm^2\n",
    "\n",
    "        self.quantum_yield = quantum_yield\n",
    "        \n",
    "        \n",
    "        #DETECTOR POSITION (in sample coordinates) CHANGES AS YOU CHANGE THETA (if the detector is fixed in labratory coordinates)\n",
    "        self.x_d = np.sin(self.theta)*detector_distance+self.x_illum/2 #mm\n",
    "        self.y_d = np.cos(self.theta)*detector_distance #mm\n",
    "        self.z_d = self.z_illum/2 #mm\n",
    "        \n",
    "        #check to make sure the detector is not clipping into the sample\n",
    "        if self.y_d - np.sin(self.theta)*self.R <= 0:\n",
    "            raise ValueError('Detector clips into sample slab!')\n",
    "        \n",
    "        self.p_d = np.array([self.x_d, self.y_d, self.z_d])\n",
    "\n",
    "        #angle at which detector is tilted\n",
    "        #from a beamline user's point of view, the detector and beam are static, and the sample's position and orientation are adjusted.\n",
    "        #in our calculations, we consider the sample as being static and the beam/detector as being adjusted.\n",
    "        #the detector should typically be 90° from the beam. Since our picture is of a static sample and a moving beam, the detector's position and orientation must also change if the beam's angle of incidence changes\n",
    "        \n",
    "        self.beta = 3*np.pi/2 - self.theta\n",
    "        self.alpha = -np.pi/2\n",
    "\n",
    "        #alpha and beta define a unit vector z_2 perpendicular to the surface of the detector, such that\n",
    "        self.z_2 = np.array([np.sin(self.alpha)*np.cos(self.beta), np.sin(self.alpha)*np.sin(self.beta), np.cos(self.alpha)])\n",
    "\n",
    "        #basically, we're looking at the two angular components of a spherical coordinate system - if the xy plane is the ground and the z direction is up, alpha is the zenith angle and beta is the azimuthal angle\n",
    "        \n",
    "        #we can use cross products to define the two other coordinate axes which are guaranteed to be in the plane of the detector\n",
    "        self.x_2 = np.cross(self.y_s, self.z_2)/np.linalg.norm(np.cross(self.y_s, self.z_2))\n",
    "        self.y_2 = np.cross(self.z_2, self.x_2)/np.linalg.norm(np.cross(self.z_2, self.x_2))\n",
    "\n",
    "        #our matrix that can convert points from detector coordinates into sample coordinates is thus\n",
    "        self.M = np.array([self.x_2, self.y_2, self.z_2]).T\n",
    "\n",
    "        #and our matrix that converts from regular coordinates into detector coordinates is this\n",
    "        self.W = np.linalg.inv(self.M)\n",
    "        \n",
    "        #attenuation of fluoresced photons through the bulk material\n",
    "        self.mu_T_Ef = mu_T_Ef #reciprocal millimeters\n",
    "\n",
    "        #attenuation of incoming photons through the bulk material\n",
    "        self.mu_T_E = mu_T_E #reciprocal millimeters\n",
    "\n",
    "        #absorption coefficient of the absorbing atom of interest\n",
    "        self.mu_i = mu_i #reciprocal millimeters\n",
    "\n",
    "        self.consts = self.photon_flux*self.quantum_yield*self.mu_i/4/np.pi/np.sin(self.theta)\n",
    "        \n",
    "        self.y_depth_limit = self.find_y_depth_limit()\n",
    "        \n",
    "        self.domainsize = -self.z_illum*self.x_illum*self.y_depth_limit*self.R*2*np.pi \n",
    "        self.nmc = nmc\n",
    "        \n",
    "        self.compute_count_rate()\n",
    "        \n",
    "        self.quick_and_dirty_count_rate()\n",
    "        \n",
    "    def compute_count_rate(self):\n",
    "        random.seed(1)\n",
    "        self.result, self.error = mcint.integrate(self.integrand, self.sampler(), measure = self.domainsize, n=self.nmc)\n",
    "        \n",
    "        if (not self.suppress_output):\n",
    "            print(f\"expected count rate: {self.result:.3e} photons per second\")\n",
    "            print(\"Using n = \", self.nmc)\n",
    "            print(f\"estimated error = {self.error:.2e} = {self.error/self.result*100:.3}%\")\n",
    "    \n",
    "    def quick_and_dirty_count_rate(self):\n",
    "        f = self.mu_T_E/np.sin(self.theta) + self.mu_T_Ef/np.sin(np.pi/2 - self.theta)\n",
    "        #solid_angle = np.pi*self.R**2/(self.detector_distance**2) #estimation of solid angle\n",
    "        #apex_angle = np.arcsin(self.R/self.detector_distance)\n",
    "        apex_angle = np.arctan(self.R/self.detector_distance)\n",
    "        solid_angle = 4*np.pi*np.sin(apex_angle/2)**2\n",
    "        \n",
    "        g = self.quantum_yield*solid_angle/4/np.pi/f \n",
    "        self.crude_result = g*self.mu_i*self.photon_flow/np.sin(self.theta)\n",
    "        \n",
    "        if (not self.suppress_output):\n",
    "            print(f\"solid angle fraction: {solid_angle/np.pi*4:.4f}\")\n",
    "            print(f\"crude count rate: {self.crude_result:.3e} photons per second, difference of {np.absolute(100*(self.crude_result - self.result)/self.result):.2f}%\")\n",
    "            \n",
    "    \n",
    "    def polar_to_cartesian(self, r, phi):\n",
    "        return np.array([r*np.cos(phi), r*np.sin(phi), 0])\n",
    "\n",
    "    def detector_coordinates_to_sample_coordinates(self, r, phi):\n",
    "        return np.matmul(self.M, self.polar_to_cartesian(r, phi))+self.p_d\n",
    "        \n",
    "        \n",
    "    def dist(self, x, y, z, r, phi): #computes the distance between a point x,y,z, in the sample and r,phi on the detector\n",
    "        return np.linalg.norm(np.array([x, y, z]) - self.detector_coordinates_to_sample_coordinates(r, phi))\n",
    "    \n",
    "    def o_atten(self, x, y, z, r, phi):\n",
    "        return np.exp(y/(self.detector_coordinates_to_sample_coordinates(r, phi)[1]-y)*self.dist(x, y, z, r, phi)*self.mu_T_Ef)\n",
    "\n",
    "    def in_atten(self, y):\n",
    "        return np.exp(y/np.sin(self.theta)*self.mu_T_E)\n",
    "    \n",
    "    #function that finds the bound of integration for y by looking at the depth at which the beam's intensity attenuates below 1% of I_0 \n",
    "    def find_y_depth_limit(self):\n",
    "        for depth in np.arange(0, -100, -0.01/1000):\n",
    "            if (self.in_atten(depth) < 0.01):\n",
    "                return depth\n",
    "                \n",
    "                \n",
    "    def integrand(self, S):\n",
    "        x = S[0]\n",
    "        y = S[1]\n",
    "        z = S[2]\n",
    "        r = S[3]\n",
    "        phi = S[4]\n",
    "        return self.cosine_term(x, y, z, r, phi)*r/(self.dist(x, y, z, r, phi)**2)*self.o_atten(x,y,z,r,phi)*self.in_atten(y)*self.consts\n",
    "    \n",
    "    def sampler(self):\n",
    "        while True:\n",
    "            z = random.uniform(0, self.z_illum)\n",
    "            y = random.uniform(self.y_depth_limit, 0)\n",
    "            x = random.uniform(-y/np.tan(self.theta), -y/np.tan(self.theta) + self.x_illum)\n",
    "            r = random.uniform(0, self.R)\n",
    "            phi = random.uniform(0, 2*np.pi)\n",
    "            yield (x, y, z, r, phi)\n",
    "        \n",
    "    #returns a vector in sample coordinates that points from a gives point in the bulk sample to a given point on the detector\n",
    "    def path(self, x, y, z, r, phi):\n",
    "        detector_point = self.detector_coordinates_to_sample_coordinates(r, phi)\n",
    "        return np.array([detector_point[0] - x, detector_point[1] - y, detector_point[2] -z])\n",
    "    \n",
    "    def cosine_term(self, x, y, z, r, phi):\n",
    "        path_vector = self.path(x, y, z, r, phi)\n",
    "        return np.absolute(np.dot(path_vector, self.z_2)/np.linalg.norm(path_vector))"
   ]
  },
  {
   "cell_type": "code",
   "execution_count": 8,
   "id": "56e7a725-c162-422e-8128-fc3476b94498",
   "metadata": {
    "tags": []
   },
   "outputs": [],
   "source": [
    "def plot_experiment_set(angle_array, experiment_list, title = \"\", Label = \"\", plot_simple_calculation_result = True):\n",
    "    yvals = np.zeros(len(angle_array))\n",
    "    crude_yvals = np.zeros(len(angle_array))\n",
    "    \n",
    "    for index, angle_value in enumerate(angle_array):\n",
    "        yvals[index] = experiment_list[index].result\n",
    "        crude_yvals[index] = experiment_list[index].crude_result\n",
    "            \n",
    "    plt.plot(angle_array, yvals, label = Label + \" integrated calculation\")\n",
    "    if plot_simple_calculation_result:\n",
    "        plt.plot(angle_array, crude_yvals, label = \"simple calculation\", linestyle='dashed')\n",
    "    plt.xlabel(\"angle (°)\")\n",
    "    plt.ylabel(\"count rate (photons/s)\")\n",
    "    plt.title(title)\n",
    "\n",
    "    plt.legend()"
   ]
  },
  {
   "cell_type": "code",
   "execution_count": 9,
   "id": "08badfa1-e5ca-420a-b095-d83005600ced",
   "metadata": {},
   "outputs": [],
   "source": [
    "def get_optimal_angle(angle_array, experiment_list, suppress_output = False):\n",
    "    angle_index = 0\n",
    "    maximum_flux = 0\n",
    "    for index, Experiment in enumerate(experiment_list):\n",
    "        if Experiment.result > maximum_flux:\n",
    "            maximum_flux = Experiment.result\n",
    "            angle_index = index\n",
    "    if not suppress_output:\n",
    "        print(f\"maximum flux of {maximum_flux:.3e} at angle {angle_array[angle_index]}\")\n",
    "    \n",
    "    return maximum_flux, angle_array[angle_index]"
   ]
  },
  {
   "cell_type": "markdown",
   "id": "bb6fcd03-b00d-47c9-810b-af33475a3758",
   "metadata": {
    "tags": []
   },
   "source": [
    "# Perform Calculations"
   ]
  },
  {
   "cell_type": "code",
   "execution_count": 10,
   "id": "78813048-427a-4d31-bc0b-017161d5bed4",
   "metadata": {},
   "outputs": [
    {
     "name": "stdout",
     "output_type": "stream",
     "text": [
      "expected count rate: 1.531e+05 photons per second\n",
      "Using n =  50000\n",
      "estimated error = 1.43e+03 = 0.932%\n",
      "solid angle fraction: 0.4918\n",
      "crude count rate: 2.602e+05 photons per second, difference of 69.93%\n"
     ]
    }
   ],
   "source": [
    "default_exp = experiment()"
   ]
  },
  {
   "cell_type": "code",
   "execution_count": null,
   "id": "31cf6333-faf1-4c57-b0ba-a659c36e9a23",
   "metadata": {},
   "outputs": [],
   "source": []
  }
 ],
 "metadata": {
  "kernelspec": {
   "display_name": "Python 3 (ipykernel)",
   "language": "python",
   "name": "python3"
  },
  "language_info": {
   "codemirror_mode": {
    "name": "ipython",
    "version": 3
   },
   "file_extension": ".py",
   "mimetype": "text/x-python",
   "name": "python",
   "nbconvert_exporter": "python",
   "pygments_lexer": "ipython3",
   "version": "3.9.13"
  }
 },
 "nbformat": 4,
 "nbformat_minor": 5
}
