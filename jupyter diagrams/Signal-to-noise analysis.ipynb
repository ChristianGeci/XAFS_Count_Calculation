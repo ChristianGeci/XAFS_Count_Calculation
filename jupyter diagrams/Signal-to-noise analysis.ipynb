{
 "cells": [
  {
   "cell_type": "code",
   "execution_count": 1,
   "id": "5621b1ad-ce15-47c2-ace8-85181ab1d93c",
   "metadata": {},
   "outputs": [],
   "source": [
    "import numpy as np\n",
    "import scipy as sp\n",
    "\n",
    "import matplotlib.pyplot as plt"
   ]
  },
  {
   "cell_type": "code",
   "execution_count": 3,
   "id": "ffe73c4b-3057-404a-9b37-735aa3391bc5",
   "metadata": {},
   "outputs": [],
   "source": [
    "class spectrum:\n",
    "    def __init__(self, filepath):\n",
    "        with open(filepath, 'r') as f:\n",
    "            \n",
    "            \n",
    "            \n",
    "            f.close()"
   ]
  },
  {
   "cell_type": "code",
   "execution_count": null,
   "id": "c6780c2d-a7cb-4bb6-9c96-f0ad7c1177ec",
   "metadata": {},
   "outputs": [],
   "source": []
  }
 ],
 "metadata": {
  "kernelspec": {
   "display_name": "Python 3 (ipykernel)",
   "language": "python",
   "name": "python3"
  },
  "language_info": {
   "codemirror_mode": {
    "name": "ipython",
    "version": 3
   },
   "file_extension": ".py",
   "mimetype": "text/x-python",
   "name": "python",
   "nbconvert_exporter": "python",
   "pygments_lexer": "ipython3",
   "version": "3.9.13"
  }
 },
 "nbformat": 4,
 "nbformat_minor": 5
}
